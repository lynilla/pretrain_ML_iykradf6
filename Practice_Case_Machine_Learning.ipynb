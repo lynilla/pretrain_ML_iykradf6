{
  "nbformat": 4,
  "nbformat_minor": 0,
  "metadata": {
    "colab": {
      "name": "Practice Case_Machine Learning.ipynb",
      "provenance": [],
      "collapsed_sections": []
    },
    "kernelspec": {
      "name": "python3",
      "display_name": "Python 3"
    },
    "language_info": {
      "name": "python"
    }
  },
  "cells": [
    {
      "cell_type": "markdown",
      "metadata": {
        "id": "H33etkRrXV-7"
      },
      "source": [
        "#Practice Case - Machine Learning\n",
        "Stella Linda Cyrilla"
      ]
    },
    {
      "cell_type": "markdown",
      "metadata": {
        "id": "1dfRZavfXlzN"
      },
      "source": [
        "## Import Libraries"
      ]
    },
    {
      "cell_type": "code",
      "metadata": {
        "id": "tsni_ZlmXT3a"
      },
      "source": [
        "import pandas as pd\n",
        "import seaborn as sns\n",
        "from sklearn import preprocessing"
      ],
      "execution_count": 68,
      "outputs": []
    },
    {
      "cell_type": "markdown",
      "metadata": {
        "id": "AW_rUdd-X0g6"
      },
      "source": [
        "## Load dataset in CSV format from URL"
      ]
    },
    {
      "cell_type": "code",
      "metadata": {
        "colab": {
          "base_uri": "https://localhost:8080/",
          "height": 290
        },
        "id": "XPOd1pL4YCHY",
        "outputId": "6f1f7f96-443a-4688-bc8e-19031e0c9f05"
      },
      "source": [
        "\n",
        "file_loc=\"/content/ML_2_Fellow.csv\"\n",
        "\n",
        "#download the csv file from URL and create the dataframe\n",
        "df_raw=pd.read_csv(file_loc, encoding= 'unicode_escape')\n",
        "df_raw.head()"
      ],
      "execution_count": 69,
      "outputs": [
        {
          "output_type": "execute_result",
          "data": {
            "text/html": [
              "<div>\n",
              "<style scoped>\n",
              "    .dataframe tbody tr th:only-of-type {\n",
              "        vertical-align: middle;\n",
              "    }\n",
              "\n",
              "    .dataframe tbody tr th {\n",
              "        vertical-align: top;\n",
              "    }\n",
              "\n",
              "    .dataframe thead th {\n",
              "        text-align: right;\n",
              "    }\n",
              "</style>\n",
              "<table border=\"1\" class=\"dataframe\">\n",
              "  <thead>\n",
              "    <tr style=\"text-align: right;\">\n",
              "      <th></th>\n",
              "      <th>Kode_Bayar</th>\n",
              "      <th>Kode_Barang</th>\n",
              "      <th>Barang</th>\n",
              "      <th>Jumlah</th>\n",
              "      <th>Tanggal_Transaksi</th>\n",
              "      <th>Harga_Satuan</th>\n",
              "      <th>Kode_Pelanggan</th>\n",
              "      <th>Negara</th>\n",
              "    </tr>\n",
              "  </thead>\n",
              "  <tbody>\n",
              "    <tr>\n",
              "      <th>0</th>\n",
              "      <td>536365</td>\n",
              "      <td>85123A</td>\n",
              "      <td>WHITE HANGING HEART T-LIGHT HOLDER</td>\n",
              "      <td>6.0</td>\n",
              "      <td>12/1/2010 8:26</td>\n",
              "      <td>2.55</td>\n",
              "      <td>17850.0</td>\n",
              "      <td>United Kingdom</td>\n",
              "    </tr>\n",
              "    <tr>\n",
              "      <th>1</th>\n",
              "      <td>536365</td>\n",
              "      <td>71053</td>\n",
              "      <td>WHITE METAL LANTERN</td>\n",
              "      <td>6.0</td>\n",
              "      <td>12/1/2010 8:26</td>\n",
              "      <td>3.39</td>\n",
              "      <td>17850.0</td>\n",
              "      <td>United Kingdom</td>\n",
              "    </tr>\n",
              "    <tr>\n",
              "      <th>2</th>\n",
              "      <td>536365</td>\n",
              "      <td>84406B</td>\n",
              "      <td>CREAM CUPID HEARTS COAT HANGER</td>\n",
              "      <td>8.0</td>\n",
              "      <td>12/1/2010 8:26</td>\n",
              "      <td>2.75</td>\n",
              "      <td>17850.0</td>\n",
              "      <td>United Kingdom</td>\n",
              "    </tr>\n",
              "    <tr>\n",
              "      <th>3</th>\n",
              "      <td>536365</td>\n",
              "      <td>84029G</td>\n",
              "      <td>KNITTED UNION FLAG HOT WATER BOTTLE</td>\n",
              "      <td>6.0</td>\n",
              "      <td>12/1/2010 8:26</td>\n",
              "      <td>3.39</td>\n",
              "      <td>17850.0</td>\n",
              "      <td>United Kingdom</td>\n",
              "    </tr>\n",
              "    <tr>\n",
              "      <th>4</th>\n",
              "      <td>536365</td>\n",
              "      <td>84029E</td>\n",
              "      <td>RED WOOLLY HOTTIE WHITE HEART.</td>\n",
              "      <td>6.0</td>\n",
              "      <td>12/1/2010 8:26</td>\n",
              "      <td>3.39</td>\n",
              "      <td>17850.0</td>\n",
              "      <td>United Kingdom</td>\n",
              "    </tr>\n",
              "  </tbody>\n",
              "</table>\n",
              "</div>"
            ],
            "text/plain": [
              "  Kode_Bayar Kode_Barang  ... Kode_Pelanggan          Negara\n",
              "0     536365      85123A  ...        17850.0  United Kingdom\n",
              "1     536365       71053  ...        17850.0  United Kingdom\n",
              "2     536365      84406B  ...        17850.0  United Kingdom\n",
              "3     536365      84029G  ...        17850.0  United Kingdom\n",
              "4     536365      84029E  ...        17850.0  United Kingdom\n",
              "\n",
              "[5 rows x 8 columns]"
            ]
          },
          "metadata": {
            "tags": []
          },
          "execution_count": 69
        }
      ]
    },
    {
      "cell_type": "markdown",
      "metadata": {
        "id": "7TveiaTULJiI"
      },
      "source": [
        "## Data Preprocessing"
      ]
    },
    {
      "cell_type": "code",
      "metadata": {
        "colab": {
          "base_uri": "https://localhost:8080/",
          "height": 743
        },
        "id": "h_vWsF8kjVcV",
        "outputId": "97d6578e-40ce-4826-92e2-8b389d6d3b05"
      },
      "source": [
        "#drop duplicates\n",
        "df_raw= df_raw.drop_duplicates()\n",
        "\n",
        "#Check 'Jumlah' values\n",
        "df_raw.reset_index().sort_values(['Jumlah'],ascending=True)"
      ],
      "execution_count": 70,
      "outputs": [
        {
          "output_type": "execute_result",
          "data": {
            "text/html": [
              "<div>\n",
              "<style scoped>\n",
              "    .dataframe tbody tr th:only-of-type {\n",
              "        vertical-align: middle;\n",
              "    }\n",
              "\n",
              "    .dataframe tbody tr th {\n",
              "        vertical-align: top;\n",
              "    }\n",
              "\n",
              "    .dataframe thead th {\n",
              "        text-align: right;\n",
              "    }\n",
              "</style>\n",
              "<table border=\"1\" class=\"dataframe\">\n",
              "  <thead>\n",
              "    <tr style=\"text-align: right;\">\n",
              "      <th></th>\n",
              "      <th>index</th>\n",
              "      <th>Kode_Bayar</th>\n",
              "      <th>Kode_Barang</th>\n",
              "      <th>Barang</th>\n",
              "      <th>Jumlah</th>\n",
              "      <th>Tanggal_Transaksi</th>\n",
              "      <th>Harga_Satuan</th>\n",
              "      <th>Kode_Pelanggan</th>\n",
              "      <th>Negara</th>\n",
              "    </tr>\n",
              "  </thead>\n",
              "  <tbody>\n",
              "    <tr>\n",
              "      <th>4226</th>\n",
              "      <td>4287</td>\n",
              "      <td>C536757</td>\n",
              "      <td>84347</td>\n",
              "      <td>ROTATING SILVER ANGELS T-LIGHT HLDR</td>\n",
              "      <td>-9360.0</td>\n",
              "      <td>12/2/2010 14:23</td>\n",
              "      <td>0.03</td>\n",
              "      <td>15838.0</td>\n",
              "      <td>United Kingdom</td>\n",
              "    </tr>\n",
              "    <tr>\n",
              "      <th>21200</th>\n",
              "      <td>21518</td>\n",
              "      <td>538090</td>\n",
              "      <td>20956</td>\n",
              "      <td>?</td>\n",
              "      <td>-723.0</td>\n",
              "      <td>12/9/2010 14:48</td>\n",
              "      <td>0.00</td>\n",
              "      <td>NaN</td>\n",
              "      <td>United Kingdom</td>\n",
              "    </tr>\n",
              "    <tr>\n",
              "      <th>7190</th>\n",
              "      <td>7292</td>\n",
              "      <td>537028</td>\n",
              "      <td>21696</td>\n",
              "      <td>NaN</td>\n",
              "      <td>-320.0</td>\n",
              "      <td>12/3/2010 16:36</td>\n",
              "      <td>0.00</td>\n",
              "      <td>NaN</td>\n",
              "      <td>United Kingdom</td>\n",
              "    </tr>\n",
              "    <tr>\n",
              "      <th>19681</th>\n",
              "      <td>19996</td>\n",
              "      <td>537999</td>\n",
              "      <td>22034</td>\n",
              "      <td>NaN</td>\n",
              "      <td>-223.0</td>\n",
              "      <td>12/9/2010 11:44</td>\n",
              "      <td>0.00</td>\n",
              "      <td>NaN</td>\n",
              "      <td>United Kingdom</td>\n",
              "    </tr>\n",
              "    <tr>\n",
              "      <th>4778</th>\n",
              "      <td>4857</td>\n",
              "      <td>C536812</td>\n",
              "      <td>22588</td>\n",
              "      <td>CARD HOLDER GINGHAM HEART</td>\n",
              "      <td>-192.0</td>\n",
              "      <td>12/2/2010 16:58</td>\n",
              "      <td>2.10</td>\n",
              "      <td>16546.0</td>\n",
              "      <td>United Kingdom</td>\n",
              "    </tr>\n",
              "    <tr>\n",
              "      <th>...</th>\n",
              "      <td>...</td>\n",
              "      <td>...</td>\n",
              "      <td>...</td>\n",
              "      <td>...</td>\n",
              "      <td>...</td>\n",
              "      <td>...</td>\n",
              "      <td>...</td>\n",
              "      <td>...</td>\n",
              "      <td>...</td>\n",
              "    </tr>\n",
              "    <tr>\n",
              "      <th>24549</th>\n",
              "      <td>24901</td>\n",
              "      <td>538349,90214C,\"LETTER \"\"C\"\" BLING KEY RING\",1,...</td>\n",
              "      <td>NaN</td>\n",
              "      <td>NaN</td>\n",
              "      <td>NaN</td>\n",
              "      <td>NaN</td>\n",
              "      <td>NaN</td>\n",
              "      <td>NaN</td>\n",
              "      <td>NaN</td>\n",
              "    </tr>\n",
              "    <tr>\n",
              "      <th>24550</th>\n",
              "      <td>24902</td>\n",
              "      <td>538349,90214D,\"LETTER \"\"D\"\" BLING KEY RING\",1,...</td>\n",
              "      <td>NaN</td>\n",
              "      <td>NaN</td>\n",
              "      <td>NaN</td>\n",
              "      <td>NaN</td>\n",
              "      <td>NaN</td>\n",
              "      <td>NaN</td>\n",
              "      <td>NaN</td>\n",
              "    </tr>\n",
              "    <tr>\n",
              "      <th>24551</th>\n",
              "      <td>24903</td>\n",
              "      <td>538349,90214K,\"LETTER \"\"K\"\" BLING KEY RING\",2,...</td>\n",
              "      <td>NaN</td>\n",
              "      <td>NaN</td>\n",
              "      <td>NaN</td>\n",
              "      <td>NaN</td>\n",
              "      <td>NaN</td>\n",
              "      <td>NaN</td>\n",
              "      <td>NaN</td>\n",
              "    </tr>\n",
              "    <tr>\n",
              "      <th>24552</th>\n",
              "      <td>24904</td>\n",
              "      <td>538349,90214S,\"LETTER \"\"S\"\" BLING KEY RING\",1,...</td>\n",
              "      <td>NaN</td>\n",
              "      <td>NaN</td>\n",
              "      <td>NaN</td>\n",
              "      <td>NaN</td>\n",
              "      <td>NaN</td>\n",
              "      <td>NaN</td>\n",
              "      <td>NaN</td>\n",
              "    </tr>\n",
              "    <tr>\n",
              "      <th>24553</th>\n",
              "      <td>24905</td>\n",
              "      <td>538349,90214Z,\"LETTER \"\"Z\"\" BLING KEY RING\",1,...</td>\n",
              "      <td>NaN</td>\n",
              "      <td>NaN</td>\n",
              "      <td>NaN</td>\n",
              "      <td>NaN</td>\n",
              "      <td>NaN</td>\n",
              "      <td>NaN</td>\n",
              "      <td>NaN</td>\n",
              "    </tr>\n",
              "  </tbody>\n",
              "</table>\n",
              "<p>24643 rows × 9 columns</p>\n",
              "</div>"
            ],
            "text/plain": [
              "       index  ...          Negara\n",
              "4226    4287  ...  United Kingdom\n",
              "21200  21518  ...  United Kingdom\n",
              "7190    7292  ...  United Kingdom\n",
              "19681  19996  ...  United Kingdom\n",
              "4778    4857  ...  United Kingdom\n",
              "...      ...  ...             ...\n",
              "24549  24901  ...             NaN\n",
              "24550  24902  ...             NaN\n",
              "24551  24903  ...             NaN\n",
              "24552  24904  ...             NaN\n",
              "24553  24905  ...             NaN\n",
              "\n",
              "[24643 rows x 9 columns]"
            ]
          },
          "metadata": {
            "tags": []
          },
          "execution_count": 70
        }
      ]
    },
    {
      "cell_type": "markdown",
      "metadata": {
        "id": "h_Qb-_ngky6y"
      },
      "source": [
        "Since 'Jumlah' has to be positive value, we should remove all rows that have non-positive values in 'Jumlah'"
      ]
    },
    {
      "cell_type": "code",
      "metadata": {
        "colab": {
          "base_uri": "https://localhost:8080/"
        },
        "id": "f8O1Qbbekwhd",
        "outputId": "b28849a2-3699-4daa-9348-a0770f69a082"
      },
      "source": [
        "#take only rows with positive values in Jumlah\n",
        "df=df_raw[(df_raw['Jumlah'] > 0)]\n",
        "\n",
        "## Remove all rows with NaN (missing) values \n",
        "df.isnull().sum(axis=0)\n",
        "df.dropna(subset=['Barang','Kode_Pelanggan','Jumlah','Tanggal_Transaksi','Harga_Satuan' ,'Negara' ], inplace=True)\n",
        "df.isnull().sum(axis=0)"
      ],
      "execution_count": 71,
      "outputs": [
        {
          "output_type": "stream",
          "text": [
            "/usr/local/lib/python3.7/dist-packages/ipykernel_launcher.py:6: SettingWithCopyWarning: \n",
            "A value is trying to be set on a copy of a slice from a DataFrame\n",
            "\n",
            "See the caveats in the documentation: https://pandas.pydata.org/pandas-docs/stable/user_guide/indexing.html#returning-a-view-versus-a-copy\n",
            "  \n"
          ],
          "name": "stderr"
        },
        {
          "output_type": "execute_result",
          "data": {
            "text/plain": [
              "Kode_Bayar           0\n",
              "Kode_Barang          0\n",
              "Barang               0\n",
              "Jumlah               0\n",
              "Tanggal_Transaksi    0\n",
              "Harga_Satuan         0\n",
              "Kode_Pelanggan       0\n",
              "Negara               0\n",
              "dtype: int64"
            ]
          },
          "metadata": {
            "tags": []
          },
          "execution_count": 71
        }
      ]
    },
    {
      "cell_type": "markdown",
      "metadata": {
        "id": "y8vorgqplqR5"
      },
      "source": [
        "## 1.\tWhat items customers buy the most and are there any items we should ignore?"
      ]
    },
    {
      "cell_type": "code",
      "metadata": {
        "colab": {
          "base_uri": "https://localhost:8080/",
          "height": 204
        },
        "id": "XAMAdKogKzhW",
        "outputId": "d3e03a41-f9b2-4d3c-c610-5fab2f50de73"
      },
      "source": [
        "# 1 .Find the most bought items\n",
        "new_df = df.groupby([\"Kode_Barang\",\"Barang\"])['Jumlah'].sum()\n",
        "new_df.reset_index().sort_values(['Jumlah'],ascending=False).head(5)"
      ],
      "execution_count": 72,
      "outputs": [
        {
          "output_type": "execute_result",
          "data": {
            "text/html": [
              "<div>\n",
              "<style scoped>\n",
              "    .dataframe tbody tr th:only-of-type {\n",
              "        vertical-align: middle;\n",
              "    }\n",
              "\n",
              "    .dataframe tbody tr th {\n",
              "        vertical-align: top;\n",
              "    }\n",
              "\n",
              "    .dataframe thead th {\n",
              "        text-align: right;\n",
              "    }\n",
              "</style>\n",
              "<table border=\"1\" class=\"dataframe\">\n",
              "  <thead>\n",
              "    <tr style=\"text-align: right;\">\n",
              "      <th></th>\n",
              "      <th>Kode_Barang</th>\n",
              "      <th>Barang</th>\n",
              "      <th>Jumlah</th>\n",
              "    </tr>\n",
              "  </thead>\n",
              "  <tbody>\n",
              "    <tr>\n",
              "      <th>1672</th>\n",
              "      <td>84077</td>\n",
              "      <td>WORLD WAR 2 GLIDERS ASSTD DESIGNS</td>\n",
              "      <td>3792.0</td>\n",
              "    </tr>\n",
              "    <tr>\n",
              "      <th>822</th>\n",
              "      <td>22189</td>\n",
              "      <td>CREAM HEART CARD HOLDER</td>\n",
              "      <td>2154.0</td>\n",
              "    </tr>\n",
              "    <tr>\n",
              "      <th>821</th>\n",
              "      <td>22188</td>\n",
              "      <td>BLACK HEART CARD HOLDER</td>\n",
              "      <td>2126.0</td>\n",
              "    </tr>\n",
              "    <tr>\n",
              "      <th>1045</th>\n",
              "      <td>22492</td>\n",
              "      <td>MINI PAINT SET VINTAGE</td>\n",
              "      <td>2114.0</td>\n",
              "    </tr>\n",
              "    <tr>\n",
              "      <th>1906</th>\n",
              "      <td>85123A</td>\n",
              "      <td>WHITE HANGING HEART T-LIGHT HOLDER</td>\n",
              "      <td>1915.0</td>\n",
              "    </tr>\n",
              "  </tbody>\n",
              "</table>\n",
              "</div>"
            ],
            "text/plain": [
              "     Kode_Barang                              Barang  Jumlah\n",
              "1672       84077   WORLD WAR 2 GLIDERS ASSTD DESIGNS  3792.0\n",
              "822        22189             CREAM HEART CARD HOLDER  2154.0\n",
              "821        22188             BLACK HEART CARD HOLDER  2126.0\n",
              "1045       22492             MINI PAINT SET VINTAGE   2114.0\n",
              "1906      85123A  WHITE HANGING HEART T-LIGHT HOLDER  1915.0"
            ]
          },
          "metadata": {
            "tags": []
          },
          "execution_count": 72
        }
      ]
    },
    {
      "cell_type": "code",
      "metadata": {
        "colab": {
          "base_uri": "https://localhost:8080/",
          "height": 419
        },
        "id": "yT9JfT7qlw4s",
        "outputId": "b61e2764-6f72-4a73-9b96-80fc50c64e14"
      },
      "source": [
        "#Items that should be ignore\n",
        "items_ignored=df_raw[(df_raw['Jumlah'] <= 0)]\n",
        "items_ignored = items_ignored.groupby([\"Kode_Barang\",\"Barang\"])['Jumlah'].sum()\n",
        "items_ignored.reset_index().sort_values(['Jumlah'],ascending=True)"
      ],
      "execution_count": 86,
      "outputs": [
        {
          "output_type": "execute_result",
          "data": {
            "text/html": [
              "<div>\n",
              "<style scoped>\n",
              "    .dataframe tbody tr th:only-of-type {\n",
              "        vertical-align: middle;\n",
              "    }\n",
              "\n",
              "    .dataframe tbody tr th {\n",
              "        vertical-align: top;\n",
              "    }\n",
              "\n",
              "    .dataframe thead th {\n",
              "        text-align: right;\n",
              "    }\n",
              "</style>\n",
              "<table border=\"1\" class=\"dataframe\">\n",
              "  <thead>\n",
              "    <tr style=\"text-align: right;\">\n",
              "      <th></th>\n",
              "      <th>Kode_Barang</th>\n",
              "      <th>Barang</th>\n",
              "      <th>Jumlah</th>\n",
              "    </tr>\n",
              "  </thead>\n",
              "  <tbody>\n",
              "    <tr>\n",
              "      <th>260</th>\n",
              "      <td>84347</td>\n",
              "      <td>ROTATING SILVER ANGELS T-LIGHT HLDR</td>\n",
              "      <td>-9369.0</td>\n",
              "    </tr>\n",
              "    <tr>\n",
              "      <th>17</th>\n",
              "      <td>20956</td>\n",
              "      <td>?</td>\n",
              "      <td>-723.0</td>\n",
              "    </tr>\n",
              "    <tr>\n",
              "      <th>157</th>\n",
              "      <td>22588</td>\n",
              "      <td>CARD HOLDER GINGHAM HEART</td>\n",
              "      <td>-192.0</td>\n",
              "    </tr>\n",
              "    <tr>\n",
              "      <th>152</th>\n",
              "      <td>22574</td>\n",
              "      <td>HEART WOODEN CHRISTMAS DECORATION</td>\n",
              "      <td>-192.0</td>\n",
              "    </tr>\n",
              "    <tr>\n",
              "      <th>32</th>\n",
              "      <td>21232</td>\n",
              "      <td>STRAWBERRY CERAMIC TRINKET BOX</td>\n",
              "      <td>-148.0</td>\n",
              "    </tr>\n",
              "    <tr>\n",
              "      <th>...</th>\n",
              "      <td>...</td>\n",
              "      <td>...</td>\n",
              "      <td>...</td>\n",
              "    </tr>\n",
              "    <tr>\n",
              "      <th>127</th>\n",
              "      <td>22331</td>\n",
              "      <td>WOODLAND PARTY BAG + STICKER SET</td>\n",
              "      <td>-1.0</td>\n",
              "    </tr>\n",
              "    <tr>\n",
              "      <th>130</th>\n",
              "      <td>22357</td>\n",
              "      <td>KINGS CHOICE BISCUIT TIN</td>\n",
              "      <td>-1.0</td>\n",
              "    </tr>\n",
              "    <tr>\n",
              "      <th>131</th>\n",
              "      <td>22371</td>\n",
              "      <td>AIRLINE BAG VINTAGE TOKYO 78</td>\n",
              "      <td>-1.0</td>\n",
              "    </tr>\n",
              "    <tr>\n",
              "      <th>104</th>\n",
              "      <td>22180</td>\n",
              "      <td>RETROSPOT LAMP</td>\n",
              "      <td>-1.0</td>\n",
              "    </tr>\n",
              "    <tr>\n",
              "      <th>0</th>\n",
              "      <td>11001</td>\n",
              "      <td>ASSTD DESIGN RACING CAR PEN</td>\n",
              "      <td>-1.0</td>\n",
              "    </tr>\n",
              "  </tbody>\n",
              "</table>\n",
              "<p>292 rows × 3 columns</p>\n",
              "</div>"
            ],
            "text/plain": [
              "    Kode_Barang                               Barang  Jumlah\n",
              "260       84347  ROTATING SILVER ANGELS T-LIGHT HLDR -9369.0\n",
              "17        20956                                    ?  -723.0\n",
              "157       22588            CARD HOLDER GINGHAM HEART  -192.0\n",
              "152       22574    HEART WOODEN CHRISTMAS DECORATION  -192.0\n",
              "32        21232       STRAWBERRY CERAMIC TRINKET BOX  -148.0\n",
              "..          ...                                  ...     ...\n",
              "127       22331     WOODLAND PARTY BAG + STICKER SET    -1.0\n",
              "130       22357             KINGS CHOICE BISCUIT TIN    -1.0\n",
              "131       22371         AIRLINE BAG VINTAGE TOKYO 78    -1.0\n",
              "104       22180                       RETROSPOT LAMP    -1.0\n",
              "0         11001          ASSTD DESIGN RACING CAR PEN    -1.0\n",
              "\n",
              "[292 rows x 3 columns]"
            ]
          },
          "metadata": {
            "tags": []
          },
          "execution_count": 86
        }
      ]
    },
    {
      "cell_type": "markdown",
      "metadata": {
        "id": "O--jrWWemPZB"
      },
      "source": [
        "## 2.\tWhat is our strategy to increase sales based on our export destination countries?"
      ]
    },
    {
      "cell_type": "code",
      "metadata": {
        "id": "WcpKktrGOvTu",
        "colab": {
          "base_uri": "https://localhost:8080/",
          "height": 359
        },
        "outputId": "38c766a2-4aad-44d1-cda7-69b1a9892385"
      },
      "source": [
        "#Look for country with the least number of purchase activities\n",
        "top_country = df.groupby([\"Negara\"])['Jumlah'].sum()\n",
        "top_country.reset_index().sort_values(['Jumlah'],ascending=True).head(10)"
      ],
      "execution_count": 74,
      "outputs": [
        {
          "output_type": "execute_result",
          "data": {
            "text/html": [
              "<div>\n",
              "<style scoped>\n",
              "    .dataframe tbody tr th:only-of-type {\n",
              "        vertical-align: middle;\n",
              "    }\n",
              "\n",
              "    .dataframe tbody tr th {\n",
              "        vertical-align: top;\n",
              "    }\n",
              "\n",
              "    .dataframe thead th {\n",
              "        text-align: right;\n",
              "    }\n",
              "</style>\n",
              "<table border=\"1\" class=\"dataframe\">\n",
              "  <thead>\n",
              "    <tr style=\"text-align: right;\">\n",
              "      <th></th>\n",
              "      <th>Negara</th>\n",
              "      <th>Jumlah</th>\n",
              "    </tr>\n",
              "  </thead>\n",
              "  <tbody>\n",
              "    <tr>\n",
              "      <th>2</th>\n",
              "      <td>Channel Islands</td>\n",
              "      <td>80.0</td>\n",
              "    </tr>\n",
              "    <tr>\n",
              "      <th>11</th>\n",
              "      <td>Netherlands</td>\n",
              "      <td>97.0</td>\n",
              "    </tr>\n",
              "    <tr>\n",
              "      <th>16</th>\n",
              "      <td>Switzerland</td>\n",
              "      <td>110.0</td>\n",
              "    </tr>\n",
              "    <tr>\n",
              "      <th>13</th>\n",
              "      <td>Poland</td>\n",
              "      <td>140.0</td>\n",
              "    </tr>\n",
              "    <tr>\n",
              "      <th>8</th>\n",
              "      <td>Italy</td>\n",
              "      <td>164.0</td>\n",
              "    </tr>\n",
              "    <tr>\n",
              "      <th>7</th>\n",
              "      <td>Iceland</td>\n",
              "      <td>319.0</td>\n",
              "    </tr>\n",
              "    <tr>\n",
              "      <th>0</th>\n",
              "      <td>Australia</td>\n",
              "      <td>321.0</td>\n",
              "    </tr>\n",
              "    <tr>\n",
              "      <th>3</th>\n",
              "      <td>Denmark</td>\n",
              "      <td>454.0</td>\n",
              "    </tr>\n",
              "    <tr>\n",
              "      <th>15</th>\n",
              "      <td>Spain</td>\n",
              "      <td>467.0</td>\n",
              "    </tr>\n",
              "    <tr>\n",
              "      <th>1</th>\n",
              "      <td>Belgium</td>\n",
              "      <td>528.0</td>\n",
              "    </tr>\n",
              "  </tbody>\n",
              "</table>\n",
              "</div>"
            ],
            "text/plain": [
              "             Negara  Jumlah\n",
              "2   Channel Islands    80.0\n",
              "11      Netherlands    97.0\n",
              "16      Switzerland   110.0\n",
              "13           Poland   140.0\n",
              "8             Italy   164.0\n",
              "7           Iceland   319.0\n",
              "0         Australia   321.0\n",
              "3           Denmark   454.0\n",
              "15            Spain   467.0\n",
              "1           Belgium   528.0"
            ]
          },
          "metadata": {
            "tags": []
          },
          "execution_count": 74
        }
      ]
    },
    {
      "cell_type": "markdown",
      "metadata": {
        "id": "OYxR_uSJmper"
      },
      "source": [
        "We can consider some promotions and advertising activities to gain our sales activities in these least-purchase countries."
      ]
    },
    {
      "cell_type": "markdown",
      "metadata": {
        "id": "LJyapwt7m5uh"
      },
      "source": [
        "## 4.\tGet the hidden insight from the data"
      ]
    },
    {
      "cell_type": "code",
      "metadata": {
        "colab": {
          "base_uri": "https://localhost:8080/",
          "height": 359
        },
        "id": "nYQwC7iFnNi2",
        "outputId": "6da9c0e7-1f79-45e1-c34c-a840cae494e1"
      },
      "source": [
        "top_country.reset_index().sort_values(['Jumlah'],ascending=False).head(10)"
      ],
      "execution_count": 75,
      "outputs": [
        {
          "output_type": "execute_result",
          "data": {
            "text/html": [
              "<div>\n",
              "<style scoped>\n",
              "    .dataframe tbody tr th:only-of-type {\n",
              "        vertical-align: middle;\n",
              "    }\n",
              "\n",
              "    .dataframe tbody tr th {\n",
              "        vertical-align: top;\n",
              "    }\n",
              "\n",
              "    .dataframe thead th {\n",
              "        text-align: right;\n",
              "    }\n",
              "</style>\n",
              "<table border=\"1\" class=\"dataframe\">\n",
              "  <thead>\n",
              "    <tr style=\"text-align: right;\">\n",
              "      <th></th>\n",
              "      <th>Negara</th>\n",
              "      <th>Jumlah</th>\n",
              "    </tr>\n",
              "  </thead>\n",
              "  <tbody>\n",
              "    <tr>\n",
              "      <th>17</th>\n",
              "      <td>United Kingdom</td>\n",
              "      <td>146933.0</td>\n",
              "    </tr>\n",
              "    <tr>\n",
              "      <th>4</th>\n",
              "      <td>EIRE</td>\n",
              "      <td>3886.0</td>\n",
              "    </tr>\n",
              "    <tr>\n",
              "      <th>6</th>\n",
              "      <td>Germany</td>\n",
              "      <td>3684.0</td>\n",
              "    </tr>\n",
              "    <tr>\n",
              "      <th>5</th>\n",
              "      <td>France</td>\n",
              "      <td>3577.0</td>\n",
              "    </tr>\n",
              "    <tr>\n",
              "      <th>12</th>\n",
              "      <td>Norway</td>\n",
              "      <td>3558.0</td>\n",
              "    </tr>\n",
              "    <tr>\n",
              "      <th>9</th>\n",
              "      <td>Japan</td>\n",
              "      <td>1672.0</td>\n",
              "    </tr>\n",
              "    <tr>\n",
              "      <th>14</th>\n",
              "      <td>Portugal</td>\n",
              "      <td>791.0</td>\n",
              "    </tr>\n",
              "    <tr>\n",
              "      <th>10</th>\n",
              "      <td>Lithuania</td>\n",
              "      <td>652.0</td>\n",
              "    </tr>\n",
              "    <tr>\n",
              "      <th>1</th>\n",
              "      <td>Belgium</td>\n",
              "      <td>528.0</td>\n",
              "    </tr>\n",
              "    <tr>\n",
              "      <th>15</th>\n",
              "      <td>Spain</td>\n",
              "      <td>467.0</td>\n",
              "    </tr>\n",
              "  </tbody>\n",
              "</table>\n",
              "</div>"
            ],
            "text/plain": [
              "            Negara    Jumlah\n",
              "17  United Kingdom  146933.0\n",
              "4             EIRE    3886.0\n",
              "6          Germany    3684.0\n",
              "5           France    3577.0\n",
              "12          Norway    3558.0\n",
              "9            Japan    1672.0\n",
              "14        Portugal     791.0\n",
              "10       Lithuania     652.0\n",
              "1          Belgium     528.0\n",
              "15           Spain     467.0"
            ]
          },
          "metadata": {
            "tags": []
          },
          "execution_count": 75
        }
      ]
    },
    {
      "cell_type": "code",
      "metadata": {
        "colab": {
          "base_uri": "https://localhost:8080/",
          "height": 486
        },
        "id": "JYTjoWs5VXsQ",
        "outputId": "7b35bc3b-d382-46b8-e9a3-a8f97f2394f8"
      },
      "source": [
        "# 4. Data transaction each month \n",
        "df['Revenue']=df['Jumlah']*df['Harga_Satuan']\n",
        "df_rev = df.groupby([\"Negara\"])['Revenue'].sum()\n",
        "df_rev.reset_index().sort_values(['Revenue'],ascending=False).head(10)"
      ],
      "execution_count": 81,
      "outputs": [
        {
          "output_type": "stream",
          "text": [
            "/usr/local/lib/python3.7/dist-packages/ipykernel_launcher.py:2: SettingWithCopyWarning: \n",
            "A value is trying to be set on a copy of a slice from a DataFrame.\n",
            "Try using .loc[row_indexer,col_indexer] = value instead\n",
            "\n",
            "See the caveats in the documentation: https://pandas.pydata.org/pandas-docs/stable/user_guide/indexing.html#returning-a-view-versus-a-copy\n",
            "  \n"
          ],
          "name": "stderr"
        },
        {
          "output_type": "execute_result",
          "data": {
            "text/html": [
              "<div>\n",
              "<style scoped>\n",
              "    .dataframe tbody tr th:only-of-type {\n",
              "        vertical-align: middle;\n",
              "    }\n",
              "\n",
              "    .dataframe tbody tr th {\n",
              "        vertical-align: top;\n",
              "    }\n",
              "\n",
              "    .dataframe thead th {\n",
              "        text-align: right;\n",
              "    }\n",
              "</style>\n",
              "<table border=\"1\" class=\"dataframe\">\n",
              "  <thead>\n",
              "    <tr style=\"text-align: right;\">\n",
              "      <th></th>\n",
              "      <th>Negara</th>\n",
              "      <th>Revenue</th>\n",
              "    </tr>\n",
              "  </thead>\n",
              "  <tbody>\n",
              "    <tr>\n",
              "      <th>17</th>\n",
              "      <td>United Kingdom</td>\n",
              "      <td>296427.98</td>\n",
              "    </tr>\n",
              "    <tr>\n",
              "      <th>6</th>\n",
              "      <td>Germany</td>\n",
              "      <td>7979.09</td>\n",
              "    </tr>\n",
              "    <tr>\n",
              "      <th>5</th>\n",
              "      <td>France</td>\n",
              "      <td>7336.94</td>\n",
              "    </tr>\n",
              "    <tr>\n",
              "      <th>4</th>\n",
              "      <td>EIRE</td>\n",
              "      <td>5851.13</td>\n",
              "    </tr>\n",
              "    <tr>\n",
              "      <th>9</th>\n",
              "      <td>Japan</td>\n",
              "      <td>4109.44</td>\n",
              "    </tr>\n",
              "    <tr>\n",
              "      <th>12</th>\n",
              "      <td>Norway</td>\n",
              "      <td>3777.04</td>\n",
              "    </tr>\n",
              "    <tr>\n",
              "      <th>14</th>\n",
              "      <td>Portugal</td>\n",
              "      <td>1976.47</td>\n",
              "    </tr>\n",
              "    <tr>\n",
              "      <th>10</th>\n",
              "      <td>Lithuania</td>\n",
              "      <td>1661.06</td>\n",
              "    </tr>\n",
              "    <tr>\n",
              "      <th>3</th>\n",
              "      <td>Denmark</td>\n",
              "      <td>1281.50</td>\n",
              "    </tr>\n",
              "    <tr>\n",
              "      <th>15</th>\n",
              "      <td>Spain</td>\n",
              "      <td>794.72</td>\n",
              "    </tr>\n",
              "  </tbody>\n",
              "</table>\n",
              "</div>"
            ],
            "text/plain": [
              "            Negara    Revenue\n",
              "17  United Kingdom  296427.98\n",
              "6          Germany    7979.09\n",
              "5           France    7336.94\n",
              "4             EIRE    5851.13\n",
              "9            Japan    4109.44\n",
              "12          Norway    3777.04\n",
              "14        Portugal    1976.47\n",
              "10       Lithuania    1661.06\n",
              "3          Denmark    1281.50\n",
              "15           Spain     794.72"
            ]
          },
          "metadata": {
            "tags": []
          },
          "execution_count": 81
        }
      ]
    }
  ]
}